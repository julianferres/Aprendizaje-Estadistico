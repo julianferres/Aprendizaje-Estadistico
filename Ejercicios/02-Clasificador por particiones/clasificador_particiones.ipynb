{
 "cells": [
  {
   "cell_type": "markdown",
   "metadata": {},
   "source": [
    "## Clasificación por Particiones - Metodo del histograma"
   ]
  },
  {
   "cell_type": "markdown",
   "metadata": {},
   "source": [
    "### Julian Ferres - Nro.Padrón 101483"
   ]
  },
  {
   "cell_type": "markdown",
   "metadata": {},
   "source": [
    "## Enunciado"
   ]
  },
  {
   "cell_type": "markdown",
   "metadata": {},
   "source": [
    "Sean las regiones $R_0$ y $R_1$ y la cantidad de puntos $n$, donde:\n",
    "\n",
    "- $R_0$ es el triangulo con vertices $(1,0)$, $(1,1)$ y $(\\frac{1}{2},0)$\n",
    "- $R_1$ es el triangulo con vertices $(0,0)$, $(\\frac{1}{2},1)$ y $(0,1)$\n",
    "\n",
    "- $n = 10, 100, 1000, 10000, \\ldots$"
   ]
  },
  {
   "cell_type": "markdown",
   "metadata": {},
   "source": [
    "Se simulan $n$ puntos en $\\mathbb{R}^2$ siguiendo los pasos:\n",
    "    \n",
    ">- Cada punto pertenece a una de las dos clases: **_Clase 0_** o **_Clase 1_** con probabilidad $\\frac{1}{2}$\n",
    "\n",
    ">- Los puntos de la clase $i$ tienen distribución uniforme con soporte en $R_i$ , con $i=0,1$"
   ]
  },
  {
   "cell_type": "markdown",
   "metadata": {},
   "source": [
    "**Se pide, con la muestra, construir una regla del histograma que permita clasificar un punto que no pertenezca a la misma**"
   ]
  },
  {
   "cell_type": "markdown",
   "metadata": {},
   "source": [
    "## Solución"
   ]
  },
  {
   "cell_type": "code",
   "execution_count": 57,
   "metadata": {},
   "outputs": [],
   "source": [
    "#Import libraries\n",
    "import numpy as np\n",
    "#Plots\n",
    "import matplotlib.pyplot as plt\n",
    "import seaborn as sns\n",
    "%matplotlib inline"
   ]
  },
  {
   "cell_type": "code",
   "execution_count": 58,
   "metadata": {},
   "outputs": [],
   "source": [
    "n = 100000 #Tamaño de muestra"
   ]
  },
  {
   "cell_type": "code",
   "execution_count": 59,
   "metadata": {},
   "outputs": [],
   "source": [
    "muestra = np.zeros((n,3))"
   ]
  },
  {
   "cell_type": "markdown",
   "metadata": {},
   "source": [
    "#### Toma de muestra"
   ]
  },
  {
   "cell_type": "code",
   "execution_count": 60,
   "metadata": {},
   "outputs": [],
   "source": [
    "i = 0 #Puntos incluidos hasta el momento.\n",
    "while(i < n):\n",
    "    x = np.random.uniform(0,1)\n",
    "    y = np.random.uniform(0,1)\n",
    "    clase = np.random.randint( 0 , 1 + 1 ) #Uniforme discreta en {0,1}\n",
    "    if (( clase == 0 and abs(2*x-1) < y) or ( clase == 1 and y < 2*x < 2-y )):\n",
    "        muestra[i][0] = x\n",
    "        muestra[i][1] = y\n",
    "        muestra[i][2] = clase\n",
    "        i+=1"
   ]
  },
  {
   "cell_type": "code",
   "execution_count": 61,
   "metadata": {},
   "outputs": [],
   "source": [
    "clase0 , clase1 = muestra[(muestra[:,2] == 0.)] , muestra[(muestra[:,2] == 1.)]"
   ]
  },
  {
   "cell_type": "code",
   "execution_count": 62,
   "metadata": {},
   "outputs": [
    {
     "data": {
      "image/png": "[encoded data removed]",
      "text/plain": [
       "<Figure size 432x288 with 1 Axes>"
      ]
     },
     "metadata": {},
     "output_type": "display_data"
    }
   ],
   "source": [
    "g = plt.scatter( clase0[:,0] , clase0[:,1] , alpha='0.5', color='darkgreen' , label = 'Clase 0');\n",
    "g = plt.scatter( clase1[:,0] , clase1[:,1] ,alpha='0.5', color='darkorange' , label = 'Clase 1');\n",
    "plt.legend()\n",
    "plt.title(\"Distribuciones\", fontsize=20)\n",
    "plt.show()"
   ]
  },
  {
   "cell_type": "markdown",
   "metadata": {},
   "source": [
    "### Para generar la particion tengo que saber la longitud del lado de las cajas."
   ]
  },
  {
   "cell_type": "markdown",
   "metadata": {},
   "source": [
    "#### Segun lo visto en clase, si $h_n$ es la longitud del lado de las cajas, entonces:\n",
    "$$h_n = \\frac {1}{\\sqrt[2d]{n}} = n^{-\\frac{1}{2d}}$$\n",
    "\n",
    "cumple las condiciones para que la regla del histograma sea universalmente consistente."
   ]
  },
  {
   "cell_type": "markdown",
   "metadata": {},
   "source": [
    " En este caso, con dos dimensiones, $d=2$:"
   ]
  },
  {
   "cell_type": "code",
   "execution_count": 63,
   "metadata": {},
   "outputs": [],
   "source": [
    "d = 2\n",
    "h_n = n **(-(1/(d*2))) \n",
    "\n",
    "d_n = int(1/h_n) #Podria 1/h_n no ser entero"
   ]
  },
  {
   "cell_type": "code",
   "execution_count": 64,
   "metadata": {},
   "outputs": [],
   "source": [
    "particion = np.ndarray((d_n , d_n), dtype = int )\n",
    "particion.fill(0)"
   ]
  },
  {
   "cell_type": "code",
   "execution_count": 65,
   "metadata": {},
   "outputs": [],
   "source": [
    "for i in range(n):\n",
    "    \n",
    "    x_p , y_p = int(muestra[i,0]/h_n) , int(muestra[i,1]/h_n)\n",
    "    \n",
    "    x_p = d_n - 1 if x_p >=d_n else x_p\n",
    "    y_p = d_n - 1 if y_p >=d_n else y_p\n",
    "    \n",
    "    particion[y_p , x_p] += 1 if muestra[i,2] else -1"
   ]
  },
  {
   "cell_type": "code",
   "execution_count": 66,
   "metadata": {},
   "outputs": [],
   "source": [
    "f = lambda x : 0 if (x>= 0) else 1\n",
    "f_vec = np.vectorize(f)"
   ]
  },
  {
   "cell_type": "code",
   "execution_count": 67,
   "metadata": {},
   "outputs": [],
   "source": [
    "for_heatmap = f_vec(particion) #Mapeo todos los numeros a 0 o 1 "
   ]
  },
  {
   "cell_type": "code",
   "execution_count": 68,
   "metadata": {},
   "outputs": [
    {
     "data": {
      "text/plain": [
       "array([[ 247,  297,  305,  329,  340,  307,  322,  307,  196,  232,  329,\n",
       "         327,  329,  326,  376,  294,  487],\n",
       "       [  72,  298,  333,  307,  283,  325,  293,  290,   41,  119,  301,\n",
       "         285,  303,  324,  306,  299,  360],\n",
       "       [   0,  227,  323,  318,  308,  325,  305,  194,    2,   -9,  253,\n",
       "         320,  313,  327,  292,  330,  184],\n",
       "       [   0,   71,  321,  335,  321,  311,  312,   40,  -52,    0,  117,\n",
       "         285,  310,  328,  350,  331,   23],\n",
       "       [   0,    0,  242,  293,  307,  275,  189,   -1,   -6,    2,   17,\n",
       "         265,  332,  341,  318,  183,    0],\n",
       "       [   0,    0,   71,  333,  313,  311,   41,   -3,  -33,  -56,  -24,\n",
       "         152,  325,  317,  276,   19,    0],\n",
       "       [   0,    0,    0,  257,  331,  194,  -55,   23,   -8,  -54,    0,\n",
       "           7,  277,  330,  163,    0,    0],\n",
       "       [   0,    0,    0,   82,  302,   60,    6,  -22,    4,  -44,  -26,\n",
       "           8,  119,  324,   30,    0,    0],\n",
       "       [   0,    0,    0,    0,  103,  -39,  -25,  -28,   -8,  -16,    1,\n",
       "           0,   47,  140,    0,    0,    0],\n",
       "       [   0,    0,    0,   -5, -144,    3,   -7,  -10,   24,  -15,   24,\n",
       "          11,  -10, -182,    0,    0,    0],\n",
       "       [   0,    0,    0, -106, -315,  -46,  -23,   46,  -33,   50,  -31,\n",
       "          22, -156, -321,  -42,    0,    0],\n",
       "       [   0,    0,   -4, -258, -337, -251,    4,    0,    9,   32,  -12,\n",
       "         -36, -295, -314, -206,    0,    0],\n",
       "       [   0,    0, -116, -323, -313, -311,  -48,  -13,  -46,   -2,  -48,\n",
       "        -130, -336, -316, -293,  -57,    0],\n",
       "       [   0,   -3, -248, -305, -326, -304, -229,   37,  -15,   -1,  -38,\n",
       "        -307, -303, -310, -342, -195,    0],\n",
       "       [   0,  -91, -294, -333, -285, -325, -312,  -61,  -25,   10, -117,\n",
       "        -311, -309, -350, -313, -312,  -76],\n",
       "       [  -1, -287, -307, -311, -322, -337, -320, -266,   18,    7, -282,\n",
       "        -312, -299, -319, -314, -296, -205],\n",
       "       [-301, -555, -585, -578, -595, -523, -562, -587, -251, -402, -565,\n",
       "        -569, -554, -600, -556, -599, -746]])"
      ]
     },
     "execution_count": 68,
     "metadata": {},
     "output_type": "execute_result"
    }
   ],
   "source": [
    "particion"
   ]
  },
  {
   "cell_type": "code",
   "execution_count": 69,
   "metadata": {},
   "outputs": [
    {
     "data": {
      "text/plain": [
       "array([[0, 0, 0, 0, 0, 0, 0, 0, 0, 0, 0, 0, 0, 0, 0, 0, 0],\n",
       "       [0, 0, 0, 0, 0, 0, 0, 0, 0, 0, 0, 0, 0, 0, 0, 0, 0],\n",
       "       [0, 0, 0, 0, 0, 0, 0, 0, 0, 1, 0, 0, 0, 0, 0, 0, 0],\n",
       "       [0, 0, 0, 0, 0, 0, 0, 0, 1, 0, 0, 0, 0, 0, 0, 0, 0],\n",
       "       [0, 0, 0, 0, 0, 0, 0, 1, 1, 0, 0, 0, 0, 0, 0, 0, 0],\n",
       "       [0, 0, 0, 0, 0, 0, 0, 1, 1, 1, 1, 0, 0, 0, 0, 0, 0],\n",
       "       [0, 0, 0, 0, 0, 0, 1, 0, 1, 1, 0, 0, 0, 0, 0, 0, 0],\n",
       "       [0, 0, 0, 0, 0, 0, 0, 1, 0, 1, 1, 0, 0, 0, 0, 0, 0],\n",
       "       [0, 0, 0, 0, 0, 1, 1, 1, 1, 1, 0, 0, 0, 0, 0, 0, 0],\n",
       "       [0, 0, 0, 1, 1, 0, 1, 1, 0, 1, 0, 0, 1, 1, 0, 0, 0],\n",
       "       [0, 0, 0, 1, 1, 1, 1, 0, 1, 0, 1, 0, 1, 1, 1, 0, 0],\n",
       "       [0, 0, 1, 1, 1, 1, 0, 0, 0, 0, 1, 1, 1, 1, 1, 0, 0],\n",
       "       [0, 0, 1, 1, 1, 1, 1, 1, 1, 1, 1, 1, 1, 1, 1, 1, 0],\n",
       "       [0, 1, 1, 1, 1, 1, 1, 0, 1, 1, 1, 1, 1, 1, 1, 1, 0],\n",
       "       [0, 1, 1, 1, 1, 1, 1, 1, 1, 0, 1, 1, 1, 1, 1, 1, 1],\n",
       "       [1, 1, 1, 1, 1, 1, 1, 1, 0, 0, 1, 1, 1, 1, 1, 1, 1],\n",
       "       [1, 1, 1, 1, 1, 1, 1, 1, 1, 1, 1, 1, 1, 1, 1, 1, 1]])"
      ]
     },
     "execution_count": 69,
     "metadata": {},
     "output_type": "execute_result"
    }
   ],
   "source": [
    "for_heatmap"
   ]
  },
  {
   "cell_type": "markdown",
   "metadata": {},
   "source": [
    "## Clasificación mediante método del histograma"
   ]
  },
  {
   "cell_type": "code",
   "execution_count": 72,
   "metadata": {},
   "outputs": [
    {
     "data": {
      "image/png": "[encoded data removed]",
      "text/plain": [
       "<Figure size 576x576 with 1 Axes>"
      ]
     },
     "metadata": {},
     "output_type": "display_data"
    }
   ],
   "source": [
    "dims = (8, 8)\n",
    "fig, axs = plt.subplots(figsize=dims)\n",
    "annotable = (n<1000000)\n",
    "g = sns.heatmap(for_heatmap, annot = annotable , linewidths=.5,cmap=['darkgreen','darkorange'],\\\n",
    "                cbar = False, annot_kws={\"size\": 15},\\\n",
    "                xticklabels = [round(x/d_n,2) for x in range(d_n)],\\\n",
    "                yticklabels = [(round(1-x/d_n,2)) for x in range(1,d_n+1)])\n",
    "\n",
    "g.set_title('Particiones Clasificadas' , size = 30)\n",
    "plt.show()"
   ]
  },
  {
   "cell_type": "markdown",
   "metadata": {},
   "source": [
    "Link al Repo de GitHub: https://github.com/julianferres/Aprendizaje-Estadistico.git"
   ]
  }
 ],
 "metadata": {
  "kernelspec": {
   "display_name": "Python 3",
   "language": "python",
   "name": "python3"
  },
  "language_info": {
   "codemirror_mode": {
    "name": "ipython",
    "version": 3
   },
   "file_extension": ".py",
   "mimetype": "text/x-python",
   "name": "python",
   "nbconvert_exporter": "python",
   "pygments_lexer": "ipython3",
   "version": "3.6.5"
  }
 },
 "nbformat": 4,
 "nbformat_minor": 2
}
