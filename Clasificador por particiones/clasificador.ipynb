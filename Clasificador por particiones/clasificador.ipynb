{
 "cells": [
  {
   "cell_type": "markdown",
   "metadata": {},
   "source": [
    "## Clasificador "
   ]
  },
  {
   "cell_type": "code",
   "execution_count": null,
   "metadata": {},
   "outputs": [],
   "source": [
    "#Import libraries\n",
    "import numpy as np\n",
    "#Plots\n",
    "import matplotlib.pyplot as plt\n",
    "import seaborn as sns\n",
    "%matplotlib inline"
   ]
  },
  {
   "cell_type": "code",
   "execution_count": null,
   "metadata": {},
   "outputs": [],
   "source": [
    "n = 1000000 #Tamaño de muestra\n",
    "\n",
    "muestra = np.zeros((n,3))"
   ]
  },
  {
   "cell_type": "markdown",
   "metadata": {},
   "source": [
    "#### Toma de muestra"
   ]
  },
  {
   "cell_type": "code",
   "execution_count": null,
   "metadata": {},
   "outputs": [],
   "source": [
    "for i in range(n):\n",
    "    \n",
    "    clase = np.random.randint( 0 , 1 + 1 ) #Uniforme discreta en {0,1}\n",
    "    y = np.random.uniform(0,1)\n",
    "    \n",
    "    muestra[i][2] = clase\n",
    "    muestra[i][1] = y\n",
    "    muestra[i][0] = y * np.random.uniform(-1/2, 1/2)+1/2 if clase else (1-y)* np.random.uniform(-1/2,1/2)+1/2"
   ]
  },
  {
   "cell_type": "markdown",
   "metadata": {},
   "source": [
    "#### Simulación de la distribución sobre el triangulo con base en y=1"
   ]
  },
  {
   "cell_type": "code",
   "execution_count": null,
   "metadata": {},
   "outputs": [],
   "source": [
    "clase0 , clase1 = muestra[(muestra[:,2] == 0.)] , muestra[(muestra[:,2] == 1.)]"
   ]
  },
  {
   "cell_type": "code",
   "execution_count": null,
   "metadata": {},
   "outputs": [],
   "source": [
    "g = plt.scatter( clase0[:,0] , clase0[:,1] , alpha='0.5', color='green' , label = 'Clase 0');\n",
    "g = plt.scatter( clase1[:,0] , clase1[:,1] , alpha='0.5', color='orange' , label = 'Clase 1');\n",
    "plt.legend()\n",
    "plt.title(\"Distribuciones\", fontsize=20)"
   ]
  },
  {
   "cell_type": "markdown",
   "metadata": {},
   "source": [
    "#### Para generar la particion tengo que saber la longitud del lado de la caja"
   ]
  },
  {
   "cell_type": "code",
   "execution_count": null,
   "metadata": {},
   "outputs": [],
   "source": [
    "h_n = n **(-(1/4)) \n",
    "# Esto viene de hacer n^(-(1/2d)) con d=2,\n",
    "#que cumplia las condiciones para que la regla del histograma sea universalmente consistente.\n",
    "\n",
    "d_n = int(1/h_n) #No 1/h_n es entero"
   ]
  },
  {
   "cell_type": "code",
   "execution_count": null,
   "metadata": {},
   "outputs": [],
   "source": [
    "particion = np.ndarray((d_n , d_n), dtype = int )\n",
    "particion.fill(0)"
   ]
  },
  {
   "cell_type": "code",
   "execution_count": null,
   "metadata": {},
   "outputs": [],
   "source": [
    "for i in range(n):\n",
    "    \n",
    "    x_p , y_p = int(muestra[i,0]/h_n) , int(muestra[i,1]/h_n)\n",
    "    \n",
    "    x_p = d_n - 1 if x_p >=d_n else x_p\n",
    "    y_p = d_n - 1 if y_p >=d_n else y_p\n",
    "    \n",
    "    particion[y_p , x_p] += 1 if muestra[i,2] else -1"
   ]
  },
  {
   "cell_type": "code",
   "execution_count": null,
   "metadata": {},
   "outputs": [],
   "source": [
    "f = lambda x : 1 if (x>= 0) else 0\n",
    "f_vec = np.vectorize(f)\n",
    "for_heatmap = f_vec(particion) #Mapeo todos los numeros a 0 o 1 "
   ]
  },
  {
   "cell_type": "code",
   "execution_count": null,
   "metadata": {},
   "outputs": [],
   "source": [
    "dims = (10, 8)\n",
    "fig, ax = plt.subplots(figsize=dims)\n",
    "g = sns.heatmap(for_heatmap, linewidths=.5, cmap=['orange','green'] , cbar = False ,\\\n",
    "                xticklabels = [round(x/d_n,2) for x in range(d_n)]\\\n",
    "                ,yticklabels = [(round(1-x/d_n,2)) for x in range(1,d_n+1)])"
   ]
  },
  {
   "cell_type": "code",
   "execution_count": null,
   "metadata": {},
   "outputs": [],
   "source": []
  },
  {
   "cell_type": "code",
   "execution_count": null,
   "metadata": {},
   "outputs": [],
   "source": []
  }
 ],
 "metadata": {
  "kernelspec": {
   "display_name": "Python 3",
   "language": "python",
   "name": "python3"
  },
  "language_info": {
   "codemirror_mode": {
    "name": "ipython",
    "version": 3
   },
   "file_extension": ".py",
   "mimetype": "text/x-python",
   "name": "python",
   "nbconvert_exporter": "python",
   "pygments_lexer": "ipython3",
   "version": "3.6.5"
  }
 },
 "nbformat": 4,
 "nbformat_minor": 2
}
